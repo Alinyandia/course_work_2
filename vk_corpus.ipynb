{
 "cells": [
  {
   "cell_type": "code",
   "execution_count": 1,
   "metadata": {
    "collapsed": true
   },
   "outputs": [],
   "source": [
    "import networkx as nx\n",
    "import urllib.request\n",
    "import requests\n",
    "import json\n",
    "import time\n",
    "import datetime\n",
    "import os\n"
   ]
  },
  {
   "cell_type": "markdown",
   "metadata": {},
   "source": [
    "+ Общий список выкачиваемых пабликов."
   ]
  },
  {
   "cell_type": "markdown",
   "metadata": {},
   "source": [
    "1. https://vk.com/pn6\n",
    "2. https://vk.com/overhear\n",
    "2. https://vk.com/oldlentach\n",
    "2. https://vk.com/rtutio\n",
    "2. https://vk.com/just_str\n",
    "2. https://vk.com/iheartnine\n",
    "2. https://vk.com/true_lentach\n",
    "2. https://vk.com/thevillage\n",
    "2. https://vk.com/russialone\n",
    "2. https://vk.com/blogmagdeev\n",
    "2. https://vk.com/public43215063\n",
    "2. https://vk.com/fatdogclub \n",
    "2. https://vk.com/tj\n",
    "2. https://vk.com/domloft\n",
    "2. https://vk.com/meduzaproject\n",
    "2. https://vk.com/postnauka\n",
    "2. https://vk.com/sci_psy\n",
    "2. https://vk.com/15x4msk\n",
    "2. https://vk.com/pikabu\n",
    "2. https://vk.com/fakebusters\n",
    "2. https://vk.com/indulgencia\n",
    "2. https://vk.com/mos\n",
    "2. https://vk.com/lentaru\n",
    "2. https://vk.com/arzamas.academy\n",
    "2. https://vk.com/vedomosti\n",
    "2. https://vk.com/all_msk_events\n",
    "2. https://vk.com/tavridaforum\n",
    "2. https://vk.com/leprum\n",
    "2. https://vk.com/mhkon\n",
    "2. https://vk.com/mhkoff\n",
    "2. https://vk.com/chrdk_ru\n",
    "2. https://vk.com/cherdak.blog\n",
    "2. https://vk.com/mozg.oreh\n",
    "2. https://vk.com/magisteriaru\n",
    "2. https://vk.com/hsepress\n",
    "2. https://vk.com/hsestores\n",
    "2. https://vk.com/hse_university\n",
    "2. https://vk.com/hsecouncil\n",
    "2. https://vk.com/tainasecret\n",
    "2. https://vk.com/nplusone\n",
    "2. https://vk.com/behindschool\n",
    "2. https://vk.com/cinematographmag"
   ]
  },
  {
   "cell_type": "code",
   "execution_count": 103,
   "metadata": {
    "collapsed": true
   },
   "outputs": [],
   "source": [
    "publics = ['pn6', 'overhear', 'oldlentach', 'rtutio', 'just_str', 'russialone', 'iheartnine', 'true_lentach', \n",
    "           'thevillage', 'blogmagdeev', 'public43215063','fatdogclub', 'tj', 'domloft', 'meduzaproject', \n",
    "           'postnauka', 'sci_psy', '15x4msk', 'pikabu', 'fakebusters', 'indulgencia', 'mos', 'lentaru', \n",
    "           'arzamas.academy', 'vedomosti', 'all_msk_events', 'tavridaforum', 'leprum', 'mhkon', 'mhkoff', \n",
    "           'chrdk_ru', 'cherdak.blog', 'mozg.oreh', 'magisteriaru', 'hsepress', 'hsestores', 'hse_university', \n",
    "           'hsecouncil', 'tainasecret', 'nplusone', 'behindschool','cinematographmag']"
   ]
  },
  {
   "cell_type": "markdown",
   "metadata": {},
   "source": [
    "+ Приложение выключено и теперь vk api привязывает access_token к определенному ip, поэтому, наверное, я могу оставить так:)"
   ]
  },
  {
   "cell_type": "code",
   "execution_count": 82,
   "metadata": {
    "collapsed": true
   },
   "outputs": [],
   "source": [
    "token = 'access_token=031c55984c248aff2d8c301931fc4f6408bbe93bc18e63e65a3d724012c7a382bc52de6a3e32672f00934'"
   ]
  },
  {
   "cell_type": "markdown",
   "metadata": {},
   "source": [
    "+ Год для названия файлов"
   ]
  },
  {
   "cell_type": "code",
   "execution_count": 83,
   "metadata": {
    "collapsed": true
   },
   "outputs": [],
   "source": [
    "def date(date_value):\n",
    "    value = datetime.datetime.fromtimestamp(date_value)\n",
    "    year = value.strftime('%Y')\n",
    "    return year"
   ]
  },
  {
   "cell_type": "markdown",
   "metadata": {},
   "source": [
    "+ Общее количество постов в паблике (для того, чтобы знать, сколько выкачивать)"
   ]
  },
  {
   "cell_type": "code",
   "execution_count": 84,
   "metadata": {
    "collapsed": true
   },
   "outputs": [],
   "source": [
    "def total_count(name):\n",
    "    req = urllib.request.Request('https://api.vk.com/method/wall.get?domain=' + str(name) + '&'+ token + '&count=1&v=5.74')\n",
    "    response = urllib.request.urlopen(req)\n",
    "    result = response.read().decode('utf-8')\n",
    "    data = json.loads(result)\n",
    "    count = data['response']['count']\n",
    "    print(count)\n",
    "    return count"
   ]
  },
  {
   "cell_type": "markdown",
   "metadata": {},
   "source": [
    "+ Алгоритм записи текстов в файлы"
   ]
  },
  {
   "cell_type": "code",
   "execution_count": 85,
   "metadata": {
    "collapsed": true
   },
   "outputs": [],
   "source": [
    "def write_json(collection):\n",
    "    for el in collection['response']['items']:\n",
    "        name = date(el['date'])\n",
    "        if not os.path.exists(str(name) + '.json'):\n",
    "            with open(str(name) + '.json', 'w') as f:\n",
    "                f.write('[' + '\\n' + json.dumps(el,\n",
    "                          sort_keys=True,\n",
    "                          indent=4,\n",
    "                          ensure_ascii=False))\n",
    "            else:\n",
    "            with open(str(name) + '.json', 'a') as f:\n",
    "                f.write(',' + '\\n' + json.dumps(el,\n",
    "                          sort_keys=True,\n",
    "                          indent=4,\n",
    "                          ensure_ascii=False))\n"
   ]
  },
  {
   "cell_type": "markdown",
   "metadata": {},
   "source": [
    "+ Сама запись"
   ]
  },
  {
   "cell_type": "code",
   "execution_count": 86,
   "metadata": {
    "collapsed": true
   },
   "outputs": [],
   "source": [
    "def collection(publics):\n",
    "    for name in publics:\n",
    "        big_count = ''\n",
    "        big_count = total_count(name)\n",
    "        i = 0\n",
    "        step = big_count*0.03\n",
    "        while i <= big_count:\n",
    "            req = urllib.request.Request('https://api.vk.com/method/wall.get?domain='+ str(name) + '&' + token + '&' +'count=' + str(step)+'&v=5.74'+'&offset=' + str(i))\n",
    "            response = urllib.request.urlopen(req)\n",
    "            result = response.read().decode('utf-8')\n",
    "            data = json.loads(result)\n",
    "            time.sleep(3)\n",
    "            i += step\n",
    "            write_json(data)\n"
   ]
  },
  {
   "cell_type": "markdown",
   "metadata": {},
   "source": [
    "+ В несколько раз, т.к. я дозаписывала"
   ]
  },
  {
   "cell_type": "code",
   "execution_count": 104,
   "metadata": {},
   "outputs": [
    {
     "name": "stdout",
     "output_type": "stream",
     "text": [
      "66571\n",
      "90575\n",
      "18050\n",
      "1590\n",
      "15832\n",
      "614\n",
      "12726\n",
      "9822\n",
      "89281\n",
      "620\n",
      "1131\n",
      "2975\n",
      "54197\n",
      "9047\n",
      "32706\n",
      "20889\n",
      "21611\n",
      "152\n",
      "207955\n",
      "7063\n",
      "34146\n",
      "5542\n",
      "72074\n",
      "6725\n",
      "54763\n",
      "1284\n",
      "3037\n",
      "83708\n",
      "78912\n",
      "58617\n",
      "5959\n",
      "57009\n",
      "32869\n",
      "239\n",
      "4402\n",
      "411\n",
      "9210\n",
      "630\n",
      "7433\n",
      "14701\n",
      "17254\n",
      "144\n"
     ]
    }
   ],
   "source": [
    "collection(publics)"
   ]
  },
  {
   "cell_type": "markdown",
   "metadata": {},
   "source": [
    "+ Алгоритм, добавляющий квадратную скобку, чтобы можно было лоадить файл"
   ]
  },
  {
   "cell_type": "code",
   "execution_count": 105,
   "metadata": {
    "collapsed": true
   },
   "outputs": [],
   "source": [
    "def cheet_system(way):\n",
    "    for (path, dirs, files) in os.walk(way):\n",
    "        for f in files:\n",
    "            with open('/Users/alinashaymardanova/Desktop/Курсовая/vk_corpus/'+str(f), 'a') as file:\n",
    "                file.write('\\n' + ']')\n"
   ]
  },
  {
   "cell_type": "code",
   "execution_count": 106,
   "metadata": {
    "collapsed": true
   },
   "outputs": [],
   "source": [
    "cheet_system('/Users/alinashaymardanova/Desktop/Курсовая/vk_corpus')"
   ]
  },
  {
   "cell_type": "markdown",
   "metadata": {},
   "source": [
    "+ Количество словоупотреблений для каждого года"
   ]
  },
  {
   "cell_type": "code",
   "execution_count": 107,
   "metadata": {},
   "outputs": [
    {
     "name": "stdout",
     "output_type": "stream",
     "text": [
      "2008.json\n",
      "29\n",
      "2009.json\n",
      "8731\n",
      "2010.json\n",
      "2329\n",
      "2011.json\n",
      "8890\n",
      "2012.json\n",
      "118026\n",
      "2013.json\n",
      "506726\n",
      "2014.json\n",
      "795288\n",
      "2015.json\n",
      "1136912\n",
      "2016.json\n",
      "1485005\n",
      "2017.json\n",
      "1619813\n",
      "2018.json\n",
      "516057\n"
     ]
    }
   ],
   "source": [
    "for (path, dirs, files) in os.walk('/Users/alinashaymardanova/Desktop/Курсовая/vk_corpus/'):\n",
    "        for f in files:\n",
    "            sum_=0\n",
    "            with open('/Users/alinashaymardanova/Desktop/Курсовая/vk_corpus/' + str(f), 'r') as file:\n",
    "                data = json.load(file)\n",
    "                for el in data:\n",
    "                    sum_+=len(el['text'].split())\n",
    "                print(f)\n",
    "                print(sum_)\n",
    "                "
   ]
  },
  {
   "cell_type": "code",
   "execution_count": null,
   "metadata": {
    "collapsed": true
   },
   "outputs": [],
   "source": []
  }
 ],
 "metadata": {
  "kernelspec": {
   "display_name": "Python 3",
   "language": "python",
   "name": "python3"
  },
  "language_info": {
   "codemirror_mode": {
    "name": "ipython",
    "version": 3
   },
   "file_extension": ".py",
   "mimetype": "text/x-python",
   "name": "python",
   "nbconvert_exporter": "python",
   "pygments_lexer": "ipython3",
   "version": "3.6.3"
  }
 },
 "nbformat": 4,
 "nbformat_minor": 2
}
