{
 "cells": [
  {
   "cell_type": "code",
   "execution_count": 243,
   "metadata": {},
   "outputs": [],
   "source": [
    "import pandas as pd\n",
    "import numpy as np\n",
    "import json\n",
    "from nltk.tokenize import word_tokenize, wordpunct_tokenize\n",
    "import re\n",
    "from pymorphy2 import MorphAnalyzer\n",
    "from nltk.corpus import stopwords\n",
    "import datetime\n",
    "import matplotlib.pyplot as plt\n",
    "import os\n",
    "\n",
    "stops = stopwords.words('russian')\n",
    "morph = MorphAnalyzer()"
   ]
  },
  {
   "cell_type": "code",
   "execution_count": 99,
   "metadata": {
    "collapsed": true
   },
   "outputs": [],
   "source": [
    "def date(date_value):\n",
    "    value = datetime.datetime.fromtimestamp(date_value)\n",
    "    year = value.strftime('%Y')\n",
    "    month = value.strftime('%m')\n",
    "    day = value.strftime('%d')\n",
    "    hour = value.strftime('%H')\n",
    "    return year, month, day, hour"
   ]
  },
  {
   "cell_type": "code",
   "execution_count": 181,
   "metadata": {
    "collapsed": true
   },
   "outputs": [],
   "source": [
    "def normalize(text):\n",
    "    lemmas = []\n",
    "    text = text.lower()\n",
    "    text = re.sub('!|\\#|\\$|%|\\&|\\(|\\)|\\*|\\||\\+|,|-|\\.|\\'|\\/|\\:|;|<|=|>|❤|\\“|♥|\\?|\\@|\\[|¶|\\]|\\^|_|\\`||\\{|\\}|~|\\«|\\»|\\«|\\»|\\\"|\\…', '', text)\n",
    "    text = re.sub('(http://|https://|www.)[a-zA-z0-9]*? ', '', text)\n",
    "    text = re.sub('[A-Za-z0-9]+', '', text)\n",
    "    text = re.sub('\\s+|\\n|\\t', ' ', text)\n",
    "    tokens = wordpunct_tokenize(text)\n",
    "    for el in tokens:\n",
    "        lemmas.append(morph.parse(el)[0].normal_form)\n",
    "    \n",
    "    clean_lemmas = [lemma for lemma in lemmas]\n",
    "    return clean_lemmas"
   ]
  },
  {
   "cell_type": "code",
   "execution_count": 244,
   "metadata": {},
   "outputs": [],
   "source": [
    "def write_in_df(el, year, month, day, hour, df):\n",
    "    pos = morph.parse(el)[0].tag.POS \n",
    "    app = {'Лексема': str(el),\n",
    "           'Часть речи': str(pos),\n",
    "           'Год': str(year),\n",
    "           'Месяц': str(month),\n",
    "           'День': str(day), \n",
    "           'Час': str(hour)}\n",
    "    df = df.append(app, ignore_index=True)\n",
    "    \n",
    "    return df"
   ]
  },
  {
   "cell_type": "code",
   "execution_count": 245,
   "metadata": {},
   "outputs": [],
   "source": [
    "def preprocess(f, df):\n",
    "    with open('/Users/alinashaymardanova/Desktop/Курсовая/vk_corpus/' + str(f), encoding='utf-8') as file:\n",
    "        data = json.load(file)\n",
    "        for el in data:\n",
    "            year, month, day, hour = date(el['date'])\n",
    "            for el in normalize(el['text']):\n",
    "                df = write_in_df(el, year, month, day, hour, df)\n",
    "    return df"
   ]
  },
  {
   "cell_type": "code",
   "execution_count": 254,
   "metadata": {
    "collapsed": true
   },
   "outputs": [],
   "source": [
    "def wite_to_csv(f, df):\n",
    "    f = re.search('[0-9]+', str(f))[0]\n",
    "    with open('/Users/alinashaymardanova/Desktop/Курсовая/' + str(f) + '.csv', 'w', encoding='utf-8') as file:\n",
    "        df.to_csv(file, sep='\\t')"
   ]
  },
  {
   "cell_type": "markdown",
   "metadata": {},
   "source": [
    "Подготавливаем csv файлы для каждого года"
   ]
  },
  {
   "cell_type": "code",
   "execution_count": null,
   "metadata": {},
   "outputs": [
    {
     "name": "stdout",
     "output_type": "stream",
     "text": [
      ".DS_Store\n",
      "2008.json\n",
      "2009.json\n",
      "2010.json\n",
      "2011.json\n",
      "2012.json\n",
      "2013.json\n",
      "2014.json\n",
      "2015.json\n"
     ]
    }
   ],
   "source": [
    "for (path, dirs, files) in os.walk('/Users/alinashaymardanova/Desktop/Курсовая/vk_corpus'):\n",
    "        for f in files:\n",
    "            print(f)\n",
    "            if f != '.DS_Store':\n",
    "                col = {'Лексема','Часть речи','Год','Месяц','День', 'Час'}\n",
    "                df = pd.DataFrame(columns=col)\n",
    "                df = preprocess(f, df)\n",
    "                wite_to_csv(f, df)"
   ]
  },
  {
   "cell_type": "code",
   "execution_count": null,
   "metadata": {
    "collapsed": true
   },
   "outputs": [],
   "source": []
  }
 ],
 "metadata": {
  "kernelspec": {
   "display_name": "Python 3",
   "language": "python",
   "name": "python3"
  },
  "language_info": {
   "codemirror_mode": {
    "name": "ipython",
    "version": 3
   },
   "file_extension": ".py",
   "mimetype": "text/x-python",
   "name": "python",
   "nbconvert_exporter": "python",
   "pygments_lexer": "ipython3",
   "version": "3.6.3"
  }
 },
 "nbformat": 4,
 "nbformat_minor": 2
}
